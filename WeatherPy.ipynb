{
 "cells": [
  {
   "cell_type": "code",
   "execution_count": 1,
   "id": "0212b871",
   "metadata": {},
   "outputs": [],
   "source": [
    "# Dependencies and Setup\n",
    "\n",
    "import matplotlib.pyplot as plt\n",
    "import pandas as pd\n",
    "import numpy as np\n",
    "import requests\n",
    "import time\n",
    "from scipy.stats import linregress\n",
    "\n",
    "# Import API key\n",
    "from api_keys import weather_api_key\n",
    "\n",
    "# Import citipy\n",
    "from citipy import citipy\n",
    "\n",
    "# set up output file\n",
    "output_data_file = \"output_data/cities.csv\"\n",
    "\n",
    "lat_range = (-90, 90)\n",
    "lng_range = (-180, 180)\n",
    "\n"
   ]
  },
  {
   "cell_type": "code",
   "execution_count": 2,
   "id": "d039917f",
   "metadata": {},
   "outputs": [
    {
     "data": {
      "text/plain": [
       "625"
      ]
     },
     "execution_count": 2,
     "metadata": {},
     "output_type": "execute_result"
    }
   ],
   "source": [
    "# set lists for latitudes and longitudes and cities\n",
    "lat_lngs = []\n",
    "cities = []\n",
    "\n",
    "# random list of latitudes and longitude combinations\n",
    "lats = np.random.uniform(lat_range[0], lat_range[1], size = 1500)\n",
    "lngs = np.random.uniform(lng_range[0], lng_range[1], size = 1500)\n",
    "lat_lngs = zip(lats, lngs)\n",
    "\n",
    "\n",
    "for lat_lng in lat_lngs:\n",
    "    city = citipy.nearest_city(lat_lng[0], lat_lng[1]).city_name\n",
    "#     append unique cities to city list\n",
    "    if city not in cities:\n",
    "        cities.append(city)\n",
    "        \n",
    "len(cities)"
   ]
  },
  {
   "cell_type": "code",
   "execution_count": 5,
   "id": "93655ecd",
   "metadata": {},
   "outputs": [
    {
     "name": "stdout",
     "output_type": "stream",
     "text": [
      "Retrieving results for Index : cidreira.\n",
      "Retrieving results for Index : vila.\n",
      "Retrieving results for Index : silale.\n",
      "Retrieving results for Index : susangerd.\n",
      "Retrieving results for Index : dikson.\n",
      "Retrieving results for Index : husavik.\n",
      "Retrieving results for Index : sompeta.\n",
      "Retrieving results for Index : qaanaaq.\n",
      "Retrieving results for Index : namwala.\n",
      "Retrieving results for Index : hilo.\n",
      "Retrieving results for Index : avarua.\n",
      "Retrieving results for Index : new norfolk.\n",
      "Retrieving results for Index : torbay.\n",
      "Retrieving results for Index : cape town.\n",
      "Retrieving results for Index : busselton.\n",
      "Retrieving results for Index : kibaya.\n",
      "Retrieving results for Index : irtyshskiy.\n",
      "Retrieving results for Index : port elizabeth.\n",
      "Retrieving results for Index : albany.\n",
      "Retrieving results for Index : carnarvon.\n",
      "Retrieving results for Index : bredasdorp.\n",
      "Retrieving results for Index : ostrovnoy.\n",
      "Retrieving results for Index : ushuaia.\n",
      "Retrieving results for Index : port alfred.\n",
      "Retrieving results for Index : bluff.\n",
      "Retrieving results for Index : touros.\n",
      "Retrieving results for Index : punta arenas.\n",
      "Retrieving results for Index : hofn.\n",
      "Retrieving results for Index : bengkulu.\n",
      "Retrieving results for Index : fortuna foothills.\n",
      "Retrieving results for Index : maxixe.\n",
      "Retrieving results for Index : yvetot.\n",
      "Retrieving results for Index : hermanus.\n",
      "Retrieving results for Index : tuktoyaktuk.\n",
      "Retrieving results for Index : tabiauea.\n",
      "city not found\n",
      "Retrieving results for Index : katsuura.\n",
      "Retrieving results for Index : komsomolskiy.\n",
      "Retrieving results for Index : arraial do cabo.\n",
      "Retrieving results for Index : makakilo city.\n",
      "Retrieving results for Index : bethel.\n",
      "Retrieving results for Index : butaritari.\n",
      "Retrieving results for Index : hasaki.\n",
      "Retrieving results for Index : yellowknife.\n",
      "Retrieving results for Index : tasiilaq.\n",
      "Retrieving results for Index : georgetown.\n",
      "Retrieving results for Index : puerto ayora.\n",
      "Retrieving results for Index : karauzyak.\n",
      "city not found\n",
      "Retrieving results for Index : westport.\n",
      "Retrieving results for Index : cherskiy.\n",
      "Retrieving results for Index : marcona.\n",
      "city not found\n",
      "Retrieving results for Index : norman wells.\n",
      "Retrieving results for Index : mataura.\n",
      "Retrieving results for Index : esso.\n",
      "Retrieving results for Index : hobart.\n",
      "Retrieving results for Index : castro.\n",
      "Retrieving results for Index : berdigestyakh.\n",
      "Retrieving results for Index : timmins.\n",
      "Retrieving results for Index : puerto madryn.\n",
      "Retrieving results for Index : rikitea.\n",
      "Retrieving results for Index : constitucion.\n",
      "Retrieving results for Index : salisbury.\n",
      "Retrieving results for Index : sabla.\n",
      "Retrieving results for Index : nyurba.\n",
      "Retrieving results for Index : taolanaro.\n",
      "city not found\n",
      "Retrieving results for Index : keti bandar.\n",
      "Retrieving results for Index : atuona.\n",
      "Retrieving results for Index : nikolskoye.\n",
      "Retrieving results for Index : bambous virieux.\n",
      "Retrieving results for Index : nizhneyansk.\n",
      "city not found\n",
      "Retrieving results for Index : mazagao.\n",
      "Retrieving results for Index : namatanai.\n",
      "Retrieving results for Index : black river.\n",
      "Retrieving results for Index : hamilton.\n",
      "Retrieving results for Index : sitka.\n",
      "Retrieving results for Index : guerrero negro.\n",
      "Retrieving results for Index : mys shmidta.\n",
      "city not found\n",
      "Retrieving results for Index : faanui.\n",
      "Retrieving results for Index : half moon bay.\n",
      "Retrieving results for Index : hithadhoo.\n",
      "Retrieving results for Index : pevek.\n",
      "Retrieving results for Index : barrow.\n",
      "Retrieving results for Index : forestville.\n",
      "Retrieving results for Index : esperance.\n",
      "Retrieving results for Index : vaitupu.\n",
      "city not found\n",
      "Retrieving results for Index : janauba.\n",
      "Retrieving results for Index : ayagoz.\n",
      "Retrieving results for Index : vila velha.\n",
      "Retrieving results for Index : lasa.\n",
      "Retrieving results for Index : bubaque.\n",
      "Retrieving results for Index : lavrentiya.\n",
      "Retrieving results for Index : saint-philippe.\n",
      "Retrieving results for Index : bilibino.\n",
      "Retrieving results for Index : tiksi.\n",
      "Retrieving results for Index : belushya guba.\n",
      "city not found\n",
      "Retrieving results for Index : mankera.\n",
      "Retrieving results for Index : dharmavaram.\n",
      "Retrieving results for Index : miraflores.\n",
      "Retrieving results for Index : lazaro cardenas.\n",
      "Retrieving results for Index : vaini.\n",
      "Retrieving results for Index : helong.\n",
      "Retrieving results for Index : mount pleasant.\n",
      "Retrieving results for Index : lebu.\n",
      "Retrieving results for Index : kaitangata.\n",
      "Retrieving results for Index : tuatapere.\n",
      "Retrieving results for Index : ribeira grande.\n",
      "Retrieving results for Index : atherton.\n",
      "Retrieving results for Index : saint-pierre.\n",
      "Retrieving results for Index : storforshei.\n",
      "Retrieving results for Index : samusu.\n",
      "city not found\n",
      "Retrieving results for Index : aksu.\n",
      "Retrieving results for Index : grand centre.\n",
      "city not found\n",
      "Retrieving results for Index : tautira.\n",
      "Retrieving results for Index : flinders.\n",
      "Retrieving results for Index : rio gallegos.\n",
      "Retrieving results for Index : port hedland.\n",
      "Retrieving results for Index : felidhoo.\n",
      "city not found\n",
      "Retrieving results for Index : arlit.\n",
      "Retrieving results for Index : sumbe.\n",
      "Retrieving results for Index : khatanga.\n",
      "Retrieving results for Index : los llanos de aridane.\n",
      "Retrieving results for Index : monduli.\n",
      "Retrieving results for Index : russell.\n",
      "Retrieving results for Index : codrington.\n",
      "Retrieving results for Index : lompoc.\n",
      "Retrieving results for Index : harper.\n",
      "Retrieving results for Index : mahebourg.\n",
      "Retrieving results for Index : provideniya.\n",
      "Retrieving results for Index : leningradskiy.\n",
      "Retrieving results for Index : samalaeulu.\n",
      "city not found\n",
      "Retrieving results for Index : balkhash.\n",
      "Retrieving results for Index : nanortalik.\n",
      "Retrieving results for Index : shimoda.\n",
      "Retrieving results for Index : birao.\n",
      "Retrieving results for Index : pocatello.\n",
      "Retrieving results for Index : victoria.\n",
      "Retrieving results for Index : genhe.\n",
      "Retrieving results for Index : mamallapuram.\n",
      "Retrieving results for Index : dauphin.\n",
      "Retrieving results for Index : saldanha.\n",
      "Retrieving results for Index : kodiak.\n",
      "Retrieving results for Index : manokwari.\n",
      "Retrieving results for Index : maningrida.\n",
      "Retrieving results for Index : kapaa.\n",
      "Retrieving results for Index : mount isa.\n",
      "Retrieving results for Index : khuzhir.\n",
      "Retrieving results for Index : halalo.\n",
      "city not found\n",
      "Retrieving results for Index : dzhusaly.\n",
      "city not found\n",
      "Retrieving results for Index : anadyr.\n",
      "Retrieving results for Index : illoqqortoormiut.\n",
      "city not found\n",
      "Retrieving results for Index : dingle.\n",
      "Retrieving results for Index : ponta do sol.\n",
      "Retrieving results for Index : vallenar.\n",
      "Retrieving results for Index : seoul.\n",
      "Retrieving results for Index : lorengau.\n",
      "Retrieving results for Index : tekkali.\n",
      "Retrieving results for Index : veghel.\n",
      "Retrieving results for Index : sawtell.\n",
      "Retrieving results for Index : poros.\n",
      "Retrieving results for Index : abnub.\n",
      "Retrieving results for Index : cabra.\n",
      "Retrieving results for Index : bayonet point.\n",
      "Retrieving results for Index : jamestown.\n",
      "Retrieving results for Index : antofagasta.\n",
      "Retrieving results for Index : saskylakh.\n",
      "Retrieving results for Index : hasilpur.\n",
      "Retrieving results for Index : miyako.\n",
      "Retrieving results for Index : east london.\n",
      "Retrieving results for Index : cabo san lucas.\n",
      "Retrieving results for Index : zeya.\n",
      "Retrieving results for Index : marzuq.\n",
      "Retrieving results for Index : marawi.\n",
      "Retrieving results for Index : moron.\n",
      "Retrieving results for Index : saryshagan.\n",
      "city not found\n",
      "Retrieving results for Index : bathsheba.\n",
      "Retrieving results for Index : cockburn town.\n",
      "Retrieving results for Index : nantucket.\n",
      "Retrieving results for Index : gold coast.\n",
      "Retrieving results for Index : santa isabel do rio negro.\n",
      "Retrieving results for Index : grand gaube.\n",
      "Retrieving results for Index : longyearbyen.\n",
      "Retrieving results for Index : mikhaylovka.\n",
      "Retrieving results for Index : nsanje.\n",
      "Retrieving results for Index : saint george.\n",
      "Retrieving results for Index : port hardy.\n",
      "Retrieving results for Index : zhigansk.\n",
      "Retrieving results for Index : pak thong chai.\n",
      "Retrieving results for Index : palmer.\n",
      "Retrieving results for Index : meulaboh.\n",
      "Retrieving results for Index : acworth.\n",
      "Retrieving results for Index : arya.\n",
      "Retrieving results for Index : ures.\n"
     ]
    },
    {
     "name": "stdout",
     "output_type": "stream",
     "text": [
      "Retrieving results for Index : ahuimanu.\n",
      "Retrieving results for Index : severo-kurilsk.\n",
      "Retrieving results for Index : awjilah.\n",
      "Retrieving results for Index : kandi.\n",
      "Retrieving results for Index : mangaratiba.\n",
      "Retrieving results for Index : gravdal.\n",
      "Retrieving results for Index : roma.\n",
      "Retrieving results for Index : beloha.\n",
      "Retrieving results for Index : cuamba.\n",
      "Retrieving results for Index : itoman.\n",
      "Retrieving results for Index : aklavik.\n",
      "Retrieving results for Index : maniitsoq.\n",
      "Retrieving results for Index : andenes.\n",
      "Retrieving results for Index : mar del plata.\n",
      "Retrieving results for Index : kokopo.\n",
      "Retrieving results for Index : casablanca.\n",
      "Retrieving results for Index : alofi.\n",
      "Retrieving results for Index : zhezkazgan.\n",
      "Retrieving results for Index : tubmanburg.\n",
      "Retrieving results for Index : rochefort.\n",
      "Retrieving results for Index : sao joao de pirabas.\n",
      "Retrieving results for Index : prince rupert.\n",
      "Retrieving results for Index : coquimbo.\n",
      "Retrieving results for Index : avera.\n",
      "Retrieving results for Index : nome.\n",
      "Retrieving results for Index : sentyabrskiy.\n",
      "city not found\n",
      "Retrieving results for Index : soyo.\n",
      "Retrieving results for Index : te anau.\n",
      "Retrieving results for Index : batemans bay.\n",
      "Retrieving results for Index : ugoofaaru.\n",
      "Retrieving results for Index : bodden town.\n",
      "Retrieving results for Index : sotouboua.\n",
      "Retrieving results for Index : ahipara.\n",
      "Retrieving results for Index : kavieng.\n",
      "Retrieving results for Index : barentsburg.\n",
      "city not found\n",
      "Retrieving results for Index : kahului.\n",
      "Retrieving results for Index : upernavik.\n",
      "Retrieving results for Index : balykshi.\n",
      "Retrieving results for Index : fort nelson.\n",
      "Retrieving results for Index : ginir.\n",
      "Retrieving results for Index : arani.\n",
      "Retrieving results for Index : sabha.\n",
      "Retrieving results for Index : ballina.\n",
      "Retrieving results for Index : cururupu.\n",
      "Retrieving results for Index : umzimvubu.\n",
      "city not found\n",
      "Retrieving results for Index : chuy.\n",
      "Retrieving results for Index : doha.\n",
      "Retrieving results for Index : pathein.\n",
      "Retrieving results for Index : udachnyy.\n",
      "Retrieving results for Index : mount gambier.\n",
      "Retrieving results for Index : souillac.\n",
      "Retrieving results for Index : mirnyy.\n",
      "Retrieving results for Index : ambon.\n",
      "Retrieving results for Index : mollendo.\n",
      "Retrieving results for Index : saint-augustin.\n",
      "Retrieving results for Index : qui nhon.\n",
      "Retrieving results for Index : lubu.\n",
      "Retrieving results for Index : eenhana.\n",
      "Retrieving results for Index : agadez.\n",
      "Retrieving results for Index : shepsi.\n",
      "Retrieving results for Index : tafresh.\n",
      "Retrieving results for Index : hay river.\n",
      "Retrieving results for Index : oktyabrskiy.\n",
      "Retrieving results for Index : arbagar.\n",
      "Retrieving results for Index : thompson.\n",
      "Retrieving results for Index : pisco.\n",
      "Retrieving results for Index : clyde river.\n",
      "Retrieving results for Index : weyburn.\n",
      "Retrieving results for Index : kenai.\n",
      "Retrieving results for Index : kegayli.\n",
      "city not found\n",
      "Retrieving results for Index : kayerkan.\n",
      "Retrieving results for Index : cooma.\n",
      "Retrieving results for Index : kloulklubed.\n",
      "Retrieving results for Index : esparta.\n",
      "Retrieving results for Index : macamic.\n",
      "Retrieving results for Index : sistranda.\n",
      "Retrieving results for Index : xining.\n",
      "Retrieving results for Index : korla.\n",
      "Retrieving results for Index : kitale.\n",
      "Retrieving results for Index : ashikaga.\n",
      "Retrieving results for Index : vagamo.\n",
      "Retrieving results for Index : kasama.\n",
      "Retrieving results for Index : fortuna.\n",
      "Retrieving results for Index : rio grande.\n",
      "Retrieving results for Index : camacha.\n",
      "Retrieving results for Index : luderitz.\n",
      "Retrieving results for Index : hornepayne.\n",
      "Retrieving results for Index : colorado.\n",
      "Retrieving results for Index : yartsevo.\n",
      "Retrieving results for Index : santander.\n",
      "Retrieving results for Index : ust-kamchatsk.\n",
      "city not found\n",
      "Retrieving results for Index : kano.\n",
      "Retrieving results for Index : rozsypne.\n",
      "Retrieving results for Index : laguna.\n",
      "Retrieving results for Index : palmira.\n",
      "Retrieving results for Index : tema.\n",
      "Retrieving results for Index : attawapiskat.\n",
      "city not found\n",
      "Retrieving results for Index : havre-saint-pierre.\n",
      "Retrieving results for Index : baglung.\n",
      "Retrieving results for Index : parral.\n",
      "Retrieving results for Index : murgab.\n",
      "Retrieving results for Index : rawson.\n",
      "Retrieving results for Index : olafsvik.\n",
      "Retrieving results for Index : shchelyayur.\n",
      "city not found\n",
      "Retrieving results for Index : sibu.\n",
      "Retrieving results for Index : berlevag.\n",
      "Retrieving results for Index : ardistan.\n",
      "city not found\n",
      "Retrieving results for Index : saleaula.\n",
      "city not found\n",
      "Retrieving results for Index : tazovskiy.\n",
      "Retrieving results for Index : narsaq.\n",
      "Retrieving results for Index : necochea.\n",
      "Retrieving results for Index : cacu.\n",
      "Retrieving results for Index : birjand.\n",
      "Retrieving results for Index : riyadh.\n",
      "Retrieving results for Index : marsh harbour.\n",
      "Retrieving results for Index : chokurdakh.\n",
      "Retrieving results for Index : kavaratti.\n",
      "Retrieving results for Index : uyemskiy.\n",
      "Retrieving results for Index : prince albert.\n",
      "Retrieving results for Index : sao mateus.\n",
      "Retrieving results for Index : ambilobe.\n",
      "Retrieving results for Index : ballarat.\n",
      "Retrieving results for Index : oistins.\n",
      "Retrieving results for Index : portland.\n",
      "Retrieving results for Index : shache.\n",
      "Retrieving results for Index : san patricio.\n",
      "Retrieving results for Index : agboville.\n",
      "Retrieving results for Index : mareeba.\n",
      "Retrieving results for Index : gao.\n",
      "Retrieving results for Index : saint-francois.\n",
      "Retrieving results for Index : huilong.\n",
      "Retrieving results for Index : majene.\n",
      "Retrieving results for Index : fukue.\n",
      "Retrieving results for Index : inhambane.\n",
      "Retrieving results for Index : dalbandin.\n",
      "Retrieving results for Index : khasan.\n",
      "Retrieving results for Index : point fortin.\n",
      "Retrieving results for Index : breyten.\n",
      "Retrieving results for Index : cabedelo.\n",
      "Retrieving results for Index : pho chai.\n",
      "Retrieving results for Index : songjianghe.\n",
      "Retrieving results for Index : el doncello.\n",
      "Retrieving results for Index : klaksvik.\n",
      "Retrieving results for Index : muscat.\n",
      "Retrieving results for Index : ruteng.\n",
      "Retrieving results for Index : buala.\n",
      "Retrieving results for Index : akyab.\n",
      "Retrieving results for Index : zhicheng.\n",
      "Retrieving results for Index : denpasar.\n",
      "Retrieving results for Index : ploemeur.\n",
      "Retrieving results for Index : adrar.\n",
      "Retrieving results for Index : bourail.\n",
      "Retrieving results for Index : ilulissat.\n",
      "Retrieving results for Index : edd.\n",
      "Retrieving results for Index : palabuhanratu.\n",
      "city not found\n",
      "Retrieving results for Index : obo.\n",
      "Retrieving results for Index : ohafia.\n",
      "Retrieving results for Index : egvekinot.\n",
      "Retrieving results for Index : gisborne.\n",
      "Retrieving results for Index : burnie.\n",
      "Retrieving results for Index : newcastleton.\n",
      "Retrieving results for Index : lima.\n",
      "Retrieving results for Index : vardo.\n",
      "Retrieving results for Index : progreso.\n",
      "Retrieving results for Index : ranfurly.\n",
      "Retrieving results for Index : bhaderwah.\n",
      "Retrieving results for Index : sambava.\n",
      "Retrieving results for Index : mazulskiy.\n",
      "city not found\n",
      "Retrieving results for Index : crotone.\n",
      "Retrieving results for Index : karratha.\n",
      "Retrieving results for Index : puerto carreno.\n",
      "Retrieving results for Index : raga.\n",
      "Retrieving results for Index : la ronge.\n",
      "Retrieving results for Index : lolua.\n",
      "city not found\n",
      "Retrieving results for Index : ocampo.\n",
      "Retrieving results for Index : tolu.\n",
      "Retrieving results for Index : soc trang.\n",
      "Retrieving results for Index : galle.\n",
      "Retrieving results for Index : biltine.\n",
      "Retrieving results for Index : tumannyy.\n",
      "city not found\n",
      "Retrieving results for Index : mosetse.\n",
      "Retrieving results for Index : cap malheureux.\n",
      "Retrieving results for Index : college.\n",
      "Retrieving results for Index : bassano.\n",
      "Retrieving results for Index : eyl.\n",
      "Retrieving results for Index : roebourne.\n",
      "Retrieving results for Index : liyang.\n",
      "Retrieving results for Index : richards bay.\n",
      "Retrieving results for Index : kerugoya.\n",
      "Retrieving results for Index : kaa-khem.\n",
      "Retrieving results for Index : jinchang.\n",
      "Retrieving results for Index : khonuu.\n",
      "city not found\n",
      "Retrieving results for Index : sabang.\n",
      "Retrieving results for Index : saint-louis.\n",
      "Retrieving results for Index : wewak.\n",
      "Retrieving results for Index : kabompo.\n",
      "Retrieving results for Index : presidente olegario.\n"
     ]
    },
    {
     "name": "stdout",
     "output_type": "stream",
     "text": [
      "Retrieving results for Index : senno.\n",
      "Retrieving results for Index : san cristobal.\n",
      "Retrieving results for Index : santa maria da vitoria.\n",
      "Retrieving results for Index : monaragala.\n",
      "Retrieving results for Index : sun city west.\n",
      "Retrieving results for Index : kavant.\n",
      "city not found\n",
      "Retrieving results for Index : saint combs.\n",
      "city not found\n",
      "Retrieving results for Index : beltinci.\n",
      "Retrieving results for Index : iqaluit.\n",
      "Retrieving results for Index : wanning.\n",
      "Retrieving results for Index : chapais.\n",
      "Retrieving results for Index : camacupa.\n",
      "Retrieving results for Index : bud.\n",
      "Retrieving results for Index : alausi.\n",
      "Retrieving results for Index : nueva gorgona.\n",
      "Retrieving results for Index : skjervoy.\n",
      "Retrieving results for Index : asau.\n",
      "Retrieving results for Index : saint-joseph.\n",
      "Retrieving results for Index : bababe.\n",
      "city not found\n",
      "Retrieving results for Index : simao.\n",
      "Retrieving results for Index : mukhen.\n",
      "Retrieving results for Index : isangel.\n",
      "Retrieving results for Index : tucuman.\n",
      "Retrieving results for Index : sri aman.\n",
      "Retrieving results for Index : evensk.\n",
      "Retrieving results for Index : tura.\n",
      "Retrieving results for Index : parana.\n",
      "Retrieving results for Index : isiro.\n",
      "Retrieving results for Index : san juan.\n",
      "Retrieving results for Index : vila franca do campo.\n",
      "Retrieving results for Index : padang.\n",
      "Retrieving results for Index : konevo.\n",
      "Retrieving results for Index : kamaishi.\n",
      "Retrieving results for Index : mont-de-marsan.\n",
      "Retrieving results for Index : bjornevatn.\n",
      "Retrieving results for Index : saint-denis.\n",
      "Retrieving results for Index : blagoyevo.\n",
      "Retrieving results for Index : rungata.\n",
      "city not found\n",
      "Retrieving results for Index : noumea.\n",
      "Retrieving results for Index : susurluk.\n",
      "Retrieving results for Index : onega.\n",
      "Retrieving results for Index : guskhara.\n",
      "Retrieving results for Index : chernaya kholunitsa.\n",
      "Retrieving results for Index : sungairaya.\n",
      "Retrieving results for Index : port huron.\n",
      "Retrieving results for Index : tezu.\n",
      "Retrieving results for Index : luwingu.\n",
      "Retrieving results for Index : faya.\n",
      "Retrieving results for Index : kuala lipis.\n",
      "Retrieving results for Index : eirunepe.\n",
      "Retrieving results for Index : ancud.\n",
      "Retrieving results for Index : fresnillo.\n",
      "Retrieving results for Index : serebryansk.\n",
      "Retrieving results for Index : artyk.\n",
      "city not found\n",
      "Retrieving results for Index : amapa.\n",
      "Retrieving results for Index : bara.\n",
      "Retrieving results for Index : tshikapa.\n",
      "Retrieving results for Index : aktash.\n",
      "Retrieving results for Index : cayenne.\n",
      "Retrieving results for Index : bogalusa.\n",
      "Retrieving results for Index : krasnoslobodsk.\n",
      "Retrieving results for Index : ust-nera.\n",
      "Retrieving results for Index : edgemoor.\n",
      "Retrieving results for Index : kasongo-lunda.\n",
      "Retrieving results for Index : broken hill.\n",
      "Retrieving results for Index : bull savanna.\n",
      "Retrieving results for Index : dicabisagan.\n",
      "Retrieving results for Index : asyut.\n",
      "Retrieving results for Index : la romana.\n",
      "Retrieving results for Index : jerusalem.\n",
      "Retrieving results for Index : gorno-chuyskiy.\n",
      "city not found\n",
      "Retrieving results for Index : jiddah.\n",
      "city not found\n",
      "Retrieving results for Index : dabou.\n",
      "Retrieving results for Index : barguzin.\n",
      "Retrieving results for Index : derzhavinsk.\n",
      "Retrieving results for Index : bilma.\n",
      "Retrieving results for Index : salalah.\n",
      "Retrieving results for Index : huron.\n",
      "Retrieving results for Index : chernukha.\n",
      "Retrieving results for Index : boende.\n",
      "Retrieving results for Index : jurilovca.\n",
      "Retrieving results for Index : paamiut.\n",
      "Retrieving results for Index : podyuga.\n",
      "Retrieving results for Index : achisay.\n",
      "city not found\n",
      "Retrieving results for Index : barranca.\n",
      "Retrieving results for Index : vengerovo.\n",
      "Retrieving results for Index : nkoteng.\n",
      "Retrieving results for Index : honiara.\n",
      "Retrieving results for Index : marechal candido rondon.\n",
      "Retrieving results for Index : popondetta.\n",
      "Retrieving results for Index : feicheng.\n",
      "Retrieving results for Index : tshela.\n",
      "Retrieving results for Index : north platte.\n",
      "Retrieving results for Index : ucluelet.\n",
      "Retrieving results for Index : kenda.\n",
      "Retrieving results for Index : manglaur.\n",
      "Retrieving results for Index : santa marta.\n",
      "Retrieving results for Index : parrita.\n",
      "Retrieving results for Index : pangnirtung.\n",
      "Retrieving results for Index : izhma.\n",
      "Retrieving results for Index : eydhafushi.\n",
      "Retrieving results for Index : pemba.\n",
      "Retrieving results for Index : kruisfontein.\n",
      "Retrieving results for Index : peleduy.\n",
      "Retrieving results for Index : kedrovyy.\n",
      "Retrieving results for Index : aljezur.\n",
      "Retrieving results for Index : xiongyue.\n",
      "Retrieving results for Index : melipilla.\n",
      "Retrieving results for Index : basyanovskiy.\n",
      "city not found\n",
      "Retrieving results for Index : ibra.\n",
      "Retrieving results for Index : bokspits.\n",
      "city not found\n",
      "Retrieving results for Index : arraias.\n",
      "Retrieving results for Index : savonlinna.\n",
      "Retrieving results for Index : isfana.\n",
      "Retrieving results for Index : tiassale.\n",
      "Retrieving results for Index : olga.\n",
      "Retrieving results for Index : nouadhibou.\n",
      "Retrieving results for Index : mindelo.\n",
      "Retrieving results for Index : taos.\n",
      "Retrieving results for Index : dubna.\n",
      "Retrieving results for Index : angoche.\n",
      "Retrieving results for Index : namibe.\n",
      "Retrieving results for Index : mecca.\n",
      "Retrieving results for Index : masuguru.\n",
      "Retrieving results for Index : juneau.\n",
      "Retrieving results for Index : yerbogachen.\n",
      "Retrieving results for Index : verkhnyaya inta.\n",
      "Retrieving results for Index : copiapo.\n",
      "Retrieving results for Index : kautokeino.\n",
      "Retrieving results for Index : neuquen.\n",
      "Retrieving results for Index : medea.\n",
      "Retrieving results for Index : mayo.\n",
      "Retrieving results for Index : glodeni.\n",
      "Retrieving results for Index : tigil.\n",
      "Retrieving results for Index : promysla.\n",
      "city not found\n",
      "Retrieving results for Index : hammerfest.\n",
      "Retrieving results for Index : kampot.\n",
      "Retrieving results for Index : belaya gora.\n",
      "Retrieving results for Index : alice springs.\n",
      "Retrieving results for Index : darhan.\n",
      "Retrieving results for Index : tooele.\n",
      "Retrieving results for Index : canutama.\n",
      "Retrieving results for Index : port keats.\n",
      "Retrieving results for Index : port blair.\n",
      "Retrieving results for Index : solsona.\n",
      "Retrieving results for Index : geraldton.\n",
      "Retrieving results for Index : garhi khairo.\n",
      "Retrieving results for Index : xinxiang.\n",
      "Retrieving results for Index : hirara.\n",
      "Retrieving results for Index : la libertad.\n",
      "Retrieving results for Index : massakory.\n",
      "Retrieving results for Index : millau.\n",
      "Retrieving results for Index : asayita.\n",
      "city not found\n",
      "Retrieving results for Index : soe.\n",
      "Retrieving results for Index : norfolk.\n",
      "Retrieving results for Index : zharkovskiy.\n",
      "Retrieving results for Index : kirando.\n",
      "Retrieving results for Index : gat.\n",
      "Retrieving results for Index : qaqortoq.\n",
      "Retrieving results for Index : tilichiki.\n",
      "Retrieving results for Index : biysk.\n",
      "Retrieving results for Index : ukiah.\n",
      "Retrieving results for Index : fort saint john.\n",
      "city not found\n",
      "Retrieving results for Index : nemuro.\n",
      "Retrieving results for Index : airai.\n",
      "Retrieving results for Index : port-gentil.\n",
      "Retrieving results for Index : bonga.\n",
      "Retrieving results for Index : izumo.\n",
      "Retrieving results for Index : buraydah.\n",
      "Retrieving results for Index : phalaborwa.\n",
      "Retrieving results for Index : jorochito.\n",
      "Retrieving results for Index : paita.\n",
      "Retrieving results for Index : saint anthony.\n",
      "Retrieving results for Index : delijan.\n",
      "Retrieving results for Index : samarai.\n",
      "Retrieving results for Index : ormara.\n",
      "Retrieving results for Index : aloleng.\n",
      "Retrieving results for Index : yumen.\n",
      "Retrieving results for Index : san quintin.\n",
      "Retrieving results for Index : union de san antonio.\n",
      "Retrieving results for Index : mastic beach.\n",
      "Retrieving results for Index : sibolga.\n",
      "Retrieving results for Index : boshan.\n",
      "Retrieving results for Index : jalu.\n",
      "Retrieving results for Index : san vicente.\n",
      "Retrieving results for Index : dombasle-sur-meurthe.\n",
      "Retrieving results for Index : jieshi.\n",
      "Retrieving results for Index : dafeng.\n",
      "Retrieving results for Index : qixingtai.\n",
      "Retrieving results for Index : amderma.\n",
      "city not found\n",
      "Retrieving results for Index : roald.\n",
      "Retrieving results for Index : tir pol.\n",
      "city not found\n",
      "Retrieving results for Index : kijang.\n",
      "Retrieving results for Index : hami.\n",
      "Retrieving results for Index : calama.\n",
      "Retrieving results for Index : jobabo.\n"
     ]
    },
    {
     "name": "stdout",
     "output_type": "stream",
     "text": [
      "Retrieving results for Index : kenora.\n",
      "Retrieving results for Index : altamont.\n",
      "Retrieving results for Index : tibacuy.\n",
      "Retrieving results for Index : dunedin.\n",
      "Retrieving results for Index : nazarovo.\n",
      "Retrieving results for Index : rakhya.\n",
      "city not found\n",
      "Retrieving results for Index : muros.\n",
      "Retrieving results for Index : wukari.\n",
      "Retrieving results for Index : berga.\n",
      "Retrieving results for Index : umea.\n",
      "Retrieving results for Index : waingapu.\n",
      "Retrieving results for Index : makokou.\n",
      "Retrieving results for Index : palmdale.\n",
      "Retrieving results for Index : cairo.\n",
      "Retrieving results for Index : fuquay-varina.\n",
      "Retrieving results for Index : pacific grove.\n",
      "Retrieving results for Index : kargala.\n",
      "Retrieving results for Index : mogadishu.\n",
      "Retrieving results for Index : sergeyevka.\n",
      "Retrieving results for Index : polovinnoye.\n",
      "Retrieving results for Index : porbandar.\n",
      "Retrieving results for Index : nosy varika.\n",
      "Retrieving results for Index : morondava.\n",
      "Retrieving results for Index : boras.\n",
      "Retrieving results for Index : chilca.\n",
      "Retrieving results for Index : kotido.\n",
      "Retrieving results for Index : tahitofalu.\n",
      "city not found\n",
      "Retrieving results for Index : bandarbeyla.\n",
      "Retrieving results for Index : juigalpa.\n",
      "Retrieving results for Index : huarmey.\n",
      "Retrieving results for Index : dinghai.\n",
      "Retrieving results for Index : tokur.\n",
      "Retrieving results for Index : haibowan.\n",
      "city not found\n",
      "Retrieving results for Index : atar.\n",
      "Retrieving results for Index : chaa-khol.\n",
      "city not found\n",
      "Retrieving results for Index : bocas del toro.\n",
      "Retrieving results for Index : shimanovsk.\n",
      "Retrieving results for Index : grindavik.\n",
      "Retrieving results for Index : chipinge.\n",
      "Retrieving results for Index : taguatinga.\n",
      "Retrieving results for Index : presidencia roque saenz pena.\n"
     ]
    }
   ],
   "source": [
    "base_url = \"http://api.openweathermap.org/data/2.5/weather?\"\n",
    "# city = \"London\"\n",
    "# cities = [\"London\", \"Paris\", \"Boston\"]\n",
    "df_cities = []\n",
    "lat = []\n",
    "lng = []\n",
    "max_temp = []\n",
    "humidity = []\n",
    "cloudiness = []\n",
    "wind_speed = []\n",
    "country = []\n",
    "date = []\n",
    "\n",
    "\n",
    "for city in cities:\n",
    "    print(f\"Retrieving results for Index (index): {city}.\")\n",
    "    query_url = base_url + \"appid=\" + weather_api_key + \"&units=imperial\" + \"&q=\"+ city\n",
    "    response = requests.get(query_url).json()\n",
    "    try:\n",
    "        \n",
    "        df_cities.append(response[\"name\"])\n",
    "        lat.append(response[\"coord\"][\"lat\"])\n",
    "        lng.append(response[\"coord\"][\"lon\"])\n",
    "        max_temp.append(response[\"main\"][\"temp_max\"])\n",
    "        humidity.append(response[\"main\"][\"humidity\"])\n",
    "        cloudiness.append(response[\"clouds\"][\"all\"])\n",
    "        wind_speed.append(response[\"wind\"][\"speed\"])\n",
    "        country.append(response[\"sys\"][\"country\"])\n",
    "        date.append(response[\"dt\"])\n",
    "        \n",
    "    except:\n",
    "        print(\"city not found\")\n",
    "    \n",
    "    \n",
    "\n",
    "\n",
    "\n"
   ]
  },
  {
   "cell_type": "code",
   "execution_count": 6,
   "id": "a31d776b",
   "metadata": {},
   "outputs": [
    {
     "name": "stdout",
     "output_type": "stream",
     "text": [
      "576\n",
      "576\n",
      "576\n",
      "576\n",
      "576\n",
      "576\n",
      "576\n",
      "576\n",
      "576\n"
     ]
    }
   ],
   "source": [
    "print(len(df_cities))\n",
    "print(len(lat))\n",
    "print(len(lng))\n",
    "print(len(max_temp))\n",
    "print(len(humidity))\n",
    "print(len(cloudiness))\n",
    "print(len(wind_speed))\n",
    "print(len(country))\n",
    "print(len(date))"
   ]
  },
  {
   "cell_type": "code",
   "execution_count": 7,
   "id": "ffb8b397",
   "metadata": {},
   "outputs": [
    {
     "data": {
      "text/html": [
       "<div>\n",
       "<style scoped>\n",
       "    .dataframe tbody tr th:only-of-type {\n",
       "        vertical-align: middle;\n",
       "    }\n",
       "\n",
       "    .dataframe tbody tr th {\n",
       "        vertical-align: top;\n",
       "    }\n",
       "\n",
       "    .dataframe thead th {\n",
       "        text-align: right;\n",
       "    }\n",
       "</style>\n",
       "<table border=\"1\" class=\"dataframe\">\n",
       "  <thead>\n",
       "    <tr style=\"text-align: right;\">\n",
       "      <th></th>\n",
       "      <th>City</th>\n",
       "      <th>Lat</th>\n",
       "      <th>Lng</th>\n",
       "      <th>Max Temp</th>\n",
       "      <th>Humidity</th>\n",
       "      <th>Cloudiness</th>\n",
       "      <th>Wind Speed</th>\n",
       "      <th>Country</th>\n",
       "      <th>Date</th>\n",
       "    </tr>\n",
       "  </thead>\n",
       "  <tbody>\n",
       "    <tr>\n",
       "      <th>0</th>\n",
       "      <td>Cidreira</td>\n",
       "      <td>-30.1811</td>\n",
       "      <td>-50.2056</td>\n",
       "      <td>65.57</td>\n",
       "      <td>84</td>\n",
       "      <td>2</td>\n",
       "      <td>23.06</td>\n",
       "      <td>BR</td>\n",
       "      <td>1666750038</td>\n",
       "    </tr>\n",
       "    <tr>\n",
       "      <th>1</th>\n",
       "      <td>Vila</td>\n",
       "      <td>42.0304</td>\n",
       "      <td>-8.1588</td>\n",
       "      <td>54.48</td>\n",
       "      <td>94</td>\n",
       "      <td>100</td>\n",
       "      <td>7.67</td>\n",
       "      <td>PT</td>\n",
       "      <td>1666750179</td>\n",
       "    </tr>\n",
       "    <tr>\n",
       "      <th>2</th>\n",
       "      <td>Šilalė</td>\n",
       "      <td>55.4906</td>\n",
       "      <td>22.1814</td>\n",
       "      <td>51.51</td>\n",
       "      <td>93</td>\n",
       "      <td>90</td>\n",
       "      <td>11.63</td>\n",
       "      <td>LT</td>\n",
       "      <td>1666750179</td>\n",
       "    </tr>\n",
       "    <tr>\n",
       "      <th>3</th>\n",
       "      <td>Sūsangerd</td>\n",
       "      <td>31.5608</td>\n",
       "      <td>48.1831</td>\n",
       "      <td>79.12</td>\n",
       "      <td>21</td>\n",
       "      <td>98</td>\n",
       "      <td>6.93</td>\n",
       "      <td>IR</td>\n",
       "      <td>1666750180</td>\n",
       "    </tr>\n",
       "    <tr>\n",
       "      <th>4</th>\n",
       "      <td>Dikson</td>\n",
       "      <td>73.5069</td>\n",
       "      <td>80.5464</td>\n",
       "      <td>23.94</td>\n",
       "      <td>76</td>\n",
       "      <td>100</td>\n",
       "      <td>0.27</td>\n",
       "      <td>RU</td>\n",
       "      <td>1666750069</td>\n",
       "    </tr>\n",
       "  </tbody>\n",
       "</table>\n",
       "</div>"
      ],
      "text/plain": [
       "        City      Lat      Lng  Max Temp  Humidity  Cloudiness  Wind Speed  \\\n",
       "0   Cidreira -30.1811 -50.2056     65.57        84           2       23.06   \n",
       "1       Vila  42.0304  -8.1588     54.48        94         100        7.67   \n",
       "2     Šilalė  55.4906  22.1814     51.51        93          90       11.63   \n",
       "3  Sūsangerd  31.5608  48.1831     79.12        21          98        6.93   \n",
       "4     Dikson  73.5069  80.5464     23.94        76         100        0.27   \n",
       "\n",
       "  Country        Date  \n",
       "0      BR  1666750038  \n",
       "1      PT  1666750179  \n",
       "2      LT  1666750179  \n",
       "3      IR  1666750180  \n",
       "4      RU  1666750069  "
      ]
     },
     "execution_count": 7,
     "metadata": {},
     "output_type": "execute_result"
    }
   ],
   "source": [
    "city_dict = {\"City\": df_cities,\n",
    "                \"Lat\": lat,\n",
    "                \"Lng\": lng,\n",
    "                \"Max Temp\": max_temp, \n",
    "                \"Humidity\": humidity,\n",
    "                \"Cloudiness\": cloudiness, \n",
    "                \"Wind Speed\": wind_speed, \n",
    "                \"Country\": country,\n",
    "                \"Date\": date}\n",
    "\n",
    "city_data = pd.DataFrame(city_dict)\n",
    "city_data.head()"
   ]
  },
  {
   "cell_type": "code",
   "execution_count": 8,
   "id": "0f713703",
   "metadata": {},
   "outputs": [],
   "source": [
    "\n",
    "\n",
    "output_data_file = \"output_data/cities.csv\"\n",
    "\n",
    "\n",
    "\n",
    "city_data.to_csv(output_data_file, index=False)"
   ]
  },
  {
   "cell_type": "code",
   "execution_count": 9,
   "id": "12761ec9",
   "metadata": {},
   "outputs": [
    {
     "data": {
      "text/html": [
       "<div>\n",
       "<style scoped>\n",
       "    .dataframe tbody tr th:only-of-type {\n",
       "        vertical-align: middle;\n",
       "    }\n",
       "\n",
       "    .dataframe tbody tr th {\n",
       "        vertical-align: top;\n",
       "    }\n",
       "\n",
       "    .dataframe thead th {\n",
       "        text-align: right;\n",
       "    }\n",
       "</style>\n",
       "<table border=\"1\" class=\"dataframe\">\n",
       "  <thead>\n",
       "    <tr style=\"text-align: right;\">\n",
       "      <th></th>\n",
       "      <th>Lat</th>\n",
       "      <th>Lng</th>\n",
       "      <th>Max Temp</th>\n",
       "      <th>Humidity</th>\n",
       "      <th>Cloudiness</th>\n",
       "      <th>Wind Speed</th>\n",
       "      <th>Date</th>\n",
       "    </tr>\n",
       "  </thead>\n",
       "  <tbody>\n",
       "    <tr>\n",
       "      <th>count</th>\n",
       "      <td>576.000000</td>\n",
       "      <td>576.000000</td>\n",
       "      <td>576.000000</td>\n",
       "      <td>576.000000</td>\n",
       "      <td>576.000000</td>\n",
       "      <td>576.000000</td>\n",
       "      <td>5.760000e+02</td>\n",
       "    </tr>\n",
       "    <tr>\n",
       "      <th>mean</th>\n",
       "      <td>19.878052</td>\n",
       "      <td>18.233488</td>\n",
       "      <td>59.963715</td>\n",
       "      <td>72.348958</td>\n",
       "      <td>59.362847</td>\n",
       "      <td>7.476753</td>\n",
       "      <td>1.666750e+09</td>\n",
       "    </tr>\n",
       "    <tr>\n",
       "      <th>std</th>\n",
       "      <td>32.729686</td>\n",
       "      <td>89.192659</td>\n",
       "      <td>20.129447</td>\n",
       "      <td>20.441427</td>\n",
       "      <td>40.553972</td>\n",
       "      <td>5.244390</td>\n",
       "      <td>1.418701e+02</td>\n",
       "    </tr>\n",
       "    <tr>\n",
       "      <th>min</th>\n",
       "      <td>-54.800000</td>\n",
       "      <td>-179.166700</td>\n",
       "      <td>-7.280000</td>\n",
       "      <td>12.000000</td>\n",
       "      <td>0.000000</td>\n",
       "      <td>0.000000</td>\n",
       "      <td>1.666750e+09</td>\n",
       "    </tr>\n",
       "    <tr>\n",
       "      <th>25%</th>\n",
       "      <td>-6.565500</td>\n",
       "      <td>-65.054450</td>\n",
       "      <td>49.222500</td>\n",
       "      <td>60.000000</td>\n",
       "      <td>14.000000</td>\n",
       "      <td>3.595000</td>\n",
       "      <td>1.666750e+09</td>\n",
       "    </tr>\n",
       "    <tr>\n",
       "      <th>50%</th>\n",
       "      <td>22.852150</td>\n",
       "      <td>25.624050</td>\n",
       "      <td>64.230000</td>\n",
       "      <td>77.000000</td>\n",
       "      <td>75.000000</td>\n",
       "      <td>6.290000</td>\n",
       "      <td>1.666750e+09</td>\n",
       "    </tr>\n",
       "    <tr>\n",
       "      <th>75%</th>\n",
       "      <td>47.683275</td>\n",
       "      <td>94.733300</td>\n",
       "      <td>75.585000</td>\n",
       "      <td>89.000000</td>\n",
       "      <td>100.000000</td>\n",
       "      <td>9.900000</td>\n",
       "      <td>1.666750e+09</td>\n",
       "    </tr>\n",
       "    <tr>\n",
       "      <th>max</th>\n",
       "      <td>78.218600</td>\n",
       "      <td>178.416700</td>\n",
       "      <td>97.450000</td>\n",
       "      <td>100.000000</td>\n",
       "      <td>100.000000</td>\n",
       "      <td>33.200000</td>\n",
       "      <td>1.666750e+09</td>\n",
       "    </tr>\n",
       "  </tbody>\n",
       "</table>\n",
       "</div>"
      ],
      "text/plain": [
       "              Lat         Lng    Max Temp    Humidity  Cloudiness  Wind Speed  \\\n",
       "count  576.000000  576.000000  576.000000  576.000000  576.000000  576.000000   \n",
       "mean    19.878052   18.233488   59.963715   72.348958   59.362847    7.476753   \n",
       "std     32.729686   89.192659   20.129447   20.441427   40.553972    5.244390   \n",
       "min    -54.800000 -179.166700   -7.280000   12.000000    0.000000    0.000000   \n",
       "25%     -6.565500  -65.054450   49.222500   60.000000   14.000000    3.595000   \n",
       "50%     22.852150   25.624050   64.230000   77.000000   75.000000    6.290000   \n",
       "75%     47.683275   94.733300   75.585000   89.000000  100.000000    9.900000   \n",
       "max     78.218600  178.416700   97.450000  100.000000  100.000000   33.200000   \n",
       "\n",
       "               Date  \n",
       "count  5.760000e+02  \n",
       "mean   1.666750e+09  \n",
       "std    1.418701e+02  \n",
       "min    1.666750e+09  \n",
       "25%    1.666750e+09  \n",
       "50%    1.666750e+09  \n",
       "75%    1.666750e+09  \n",
       "max    1.666750e+09  "
      ]
     },
     "execution_count": 9,
     "metadata": {},
     "output_type": "execute_result"
    }
   ],
   "source": [
    "city_data.describe()"
   ]
  },
  {
   "cell_type": "code",
   "execution_count": 10,
   "id": "6c5c5c54",
   "metadata": {},
   "outputs": [
    {
     "name": "stdout",
     "output_type": "stream",
     "text": [
      "[]\n"
     ]
    }
   ],
   "source": [
    "# Get the indices of cities that have humidity over %100\n",
    "# humidity_indices = []\n",
    "# # humidity_df = weather_data[\"Humidity\"] >100\n",
    "# # for row in humidity_df:\n",
    "#     if \n",
    "\n",
    "\n",
    "humidity_indices = city_data.index[(city_data[\"Humidity\"] > 100)].tolist()\n",
    "print(humidity_indices)\n",
    "\n"
   ]
  },
  {
   "cell_type": "code",
   "execution_count": 11,
   "id": "7bf8f615",
   "metadata": {
    "scrolled": false
   },
   "outputs": [
    {
     "data": {
      "image/png": "[encoded data removed]",
      "text/plain": [
       "<Figure size 432x288 with 1 Axes>"
      ]
     },
     "metadata": {
      "needs_background": "light"
     },
     "output_type": "display_data"
    }
   ],
   "source": [
    "# no cities have humidity over 100%; dataframe is clean\n",
    "x_val = city_data[\"Lat\"]\n",
    "# y_val1 = city_data[\"Max Temp\"]\n",
    "plt.scatter(x_val, max_temp)\n",
    "\n",
    "plt.title(\"City Latitude vs. Max Temperature\")\n",
    "plt.xlabel(\"Latitude\")\n",
    "plt.ylabel(\"Max Temperature (F)\")\n",
    "plt.grid()\n",
    "plt.savefig(\"output_data/lat_v_max_temp.png\")\n",
    "plt.show()"
   ]
  },
  {
   "cell_type": "code",
   "execution_count": 13,
   "id": "73c0e899",
   "metadata": {},
   "outputs": [
    {
     "name": "stdout",
     "output_type": "stream",
     "text": [
      "Analysis of temperature in compared to latitude shows a clear relationship between temperature and latitude. The closer to the eqator (latitude 0) a location is, the higher the maximum temperature.\n"
     ]
    }
   ],
   "source": [
    "print(\"Analysis of temperature in compared to latitude shows a clear relationship between temperature and latitude. The closer to the eqator (latitude 0) a location is, the higher the maximum temperature.\")"
   ]
  },
  {
   "cell_type": "code",
   "execution_count": 14,
   "id": "157d7fd1",
   "metadata": {},
   "outputs": [
    {
     "data": {
      "image/png": "[encoded data removed]",
      "text/plain": [
       "<Figure size 432x288 with 1 Axes>"
      ]
     },
     "metadata": {
      "needs_background": "light"
     },
     "output_type": "display_data"
    }
   ],
   "source": [
    "plt.scatter(x_val, humidity)\n",
    "\n",
    "plt.title(\"City Latitude vs. Humidity\")\n",
    "plt.xlabel(\"Latitude\")\n",
    "plt.ylabel(\"Humidity (%)\")\n",
    "plt.grid()\n",
    "plt.savefig(\"output_data/lat_v_humidity.png\")\n",
    "plt.show()"
   ]
  },
  {
   "cell_type": "code",
   "execution_count": 17,
   "id": "42d6a2f9",
   "metadata": {},
   "outputs": [
    {
     "name": "stdout",
     "output_type": "stream",
     "text": [
      "There does not appear to be a strong correlation between latitude and humidity based on the data in the chart above. There appear to be slightly more cities with high humidity in higher nothern latitudes, but this may be due to there being a greater percentage of cities in the northern latitudes in the dataframe.\n"
     ]
    }
   ],
   "source": [
    "print(\"There does not appear to be a strong correlation between latitude and humidity based on the data in the chart above. There appear to be slightly more cities with high humidity in higher nothern latitudes, but this may be due to there being a greater percentage of cities in the northern latitudes in the dataframe.\")"
   ]
  },
  {
   "cell_type": "code",
   "execution_count": 18,
   "id": "d22a1835",
   "metadata": {},
   "outputs": [
    {
     "data": {
      "image/png": "[encoded data removed]",
      "text/plain": [
       "<Figure size 432x288 with 1 Axes>"
      ]
     },
     "metadata": {
      "needs_background": "light"
     },
     "output_type": "display_data"
    }
   ],
   "source": [
    "plt.scatter(x_val, cloudiness)\n",
    "\n",
    "plt.title(\"City Latitude vs. Cloudiness\")\n",
    "plt.xlabel(\"Latitude\")\n",
    "plt.ylabel(\"Cloudiness (%)\")\n",
    "plt.grid()\n",
    "plt.savefig(\"output_data/lat_v_cloudiness.png\")\n",
    "plt.show()"
   ]
  },
  {
   "cell_type": "code",
   "execution_count": 19,
   "id": "033879ad",
   "metadata": {},
   "outputs": [
    {
     "name": "stdout",
     "output_type": "stream",
     "text": [
      "There is no obvious correlation between cloudiness and latitude.\n"
     ]
    }
   ],
   "source": [
    "print(\"There is no obvious correlation between cloudiness and latitude.\")"
   ]
  },
  {
   "cell_type": "code",
   "execution_count": 20,
   "id": "1bd8a419",
   "metadata": {
    "scrolled": true
   },
   "outputs": [
    {
     "data": {
      "image/png": "[encoded data removed]",
      "text/plain": [
       "<Figure size 432x288 with 1 Axes>"
      ]
     },
     "metadata": {
      "needs_background": "light"
     },
     "output_type": "display_data"
    }
   ],
   "source": [
    "plt.scatter(x_val, wind_speed)\n",
    "\n",
    "plt.title(\"City Latitude vs. Wind Speed\")\n",
    "plt.xlabel(\"Latitude\")\n",
    "plt.ylabel(\"Wind Speed (mph)\")\n",
    "plt.grid()\n",
    "plt.savefig(\"output_data/lat_v_wind_speed.png\")\n",
    "plt.show()"
   ]
  },
  {
   "cell_type": "code",
   "execution_count": 21,
   "id": "f9c0d2c8",
   "metadata": {},
   "outputs": [
    {
     "name": "stdout",
     "output_type": "stream",
     "text": [
      "Wind Speed appears to be fairly similar across all latitudes.\n"
     ]
    }
   ],
   "source": [
    "print(\"Wind Speed appears to be fairly similar across all latitudes.\")"
   ]
  },
  {
   "cell_type": "code",
   "execution_count": 22,
   "id": "d470bcf1",
   "metadata": {},
   "outputs": [
    {
     "name": "stdout",
     "output_type": "stream",
     "text": [
      "The r-value is: -0.8787339074746868\n"
     ]
    },
    {
     "data": {
      "image/png": "[encoded data removed]",
      "text/plain": [
       "<Figure size 432x288 with 1 Axes>"
      ]
     },
     "metadata": {
      "needs_background": "light"
     },
     "output_type": "display_data"
    }
   ],
   "source": [
    "northern_city_data = city_data.loc[(city_data[\"Lat\"]> 0)]\n",
    "northern_x_val = northern_city_data[\"Lat\"]\n",
    "\n",
    "(slope, intercept, rvalue, pvalue, stderr) = linregress(northern_x_val, northern_city_data[\"Max Temp\"])\n",
    "regress_values = northern_x_val * slope + intercept\n",
    "line_eq = \"y = \" + str(round(slope,2)) + \"x + \" + str(round(intercept,2))\n",
    "\n",
    "\n",
    "plt.scatter(northern_x_val, northern_city_data[\"Max Temp\"])\n",
    "plt.plot(northern_x_val, regress_values, \"r-\")\n",
    "plt.annotate(line_eq,(-40,20),fontsize=15,color=\"red\")\n",
    "plt.title(\"City Latitude vs. Max Temperature\")\n",
    "plt.xlabel(\"Latitude\")\n",
    "plt.ylabel(\"Max Temperature (F)\")\n",
    "plt.grid()\n",
    "plt.savefig(\"output_data/northern_lat_v_max_temp.png\")\n",
    "print(f\"The r-value is: {rvalue}\")\n",
    "\n",
    "plt.show()"
   ]
  },
  {
   "cell_type": "code",
   "execution_count": 23,
   "id": "eb6952ae",
   "metadata": {
    "scrolled": true
   },
   "outputs": [
    {
     "name": "stdout",
     "output_type": "stream",
     "text": [
      "The r-value is: 0.573668184089367\n"
     ]
    },
    {
     "data": {
      "image/png": "[encoded data removed]",
      "text/plain": [
       "<Figure size 432x288 with 1 Axes>"
      ]
     },
     "metadata": {
      "needs_background": "light"
     },
     "output_type": "display_data"
    }
   ],
   "source": [
    "southern_city_data = city_data.loc[(city_data[\"Lat\"]< 0)]\n",
    "southern_x_val = southern_city_data[\"Lat\"]\n",
    "\n",
    "(slope, intercept, rvalue, pvalue, stderr) = linregress(southern_x_val, southern_city_data[\"Max Temp\"])\n",
    "regress_values = southern_x_val * slope + intercept\n",
    "line_eq = \"y = \" + str(round(slope,2)) + \"x + \" + str(round(intercept,2))\n",
    "\n",
    "\n",
    "plt.scatter(southern_x_val, southern_city_data[\"Max Temp\"])\n",
    "plt.plot(southern_x_val, regress_values, \"r-\")\n",
    "plt.annotate(line_eq,(-40,20),fontsize=15,color=\"red\")\n",
    "plt.title(\"City Latitude vs. Max Temperature\")\n",
    "plt.xlabel(\"Latitude\")\n",
    "plt.ylabel(\"Max Temperature (F)\")\n",
    "plt.grid()\n",
    "plt.savefig(\"output_data/southern_lat_v_max_temp.png\")\n",
    "print(f\"The r-value is: {rvalue}\")\n",
    "\n",
    "plt.show()"
   ]
  },
  {
   "cell_type": "code",
   "execution_count": 24,
   "id": "c2906ca1",
   "metadata": {},
   "outputs": [
    {
     "name": "stdout",
     "output_type": "stream",
     "text": [
      "There is a negative correlation between temperature and latitude in the northern hemisphere and a positive correlation in the southern hemisphere. Both relationships show that temperatures are higher in locations closer to the equator.\n"
     ]
    }
   ],
   "source": [
    "print(\"There is a negative correlation between temperature and latitude in the northern hemisphere and a positive correlation in the southern hemisphere. Both relationships show that temperatures are higher in locations closer to the equator.\")"
   ]
  },
  {
   "cell_type": "code",
   "execution_count": 25,
   "id": "dcaf1bca",
   "metadata": {},
   "outputs": [
    {
     "name": "stdout",
     "output_type": "stream",
     "text": [
      "The r-value is: 0.2232924553495668\n"
     ]
    },
    {
     "data": {
      "image/png": "[encoded data removed]",
      "text/plain": [
       "<Figure size 432x288 with 1 Axes>"
      ]
     },
     "metadata": {
      "needs_background": "light"
     },
     "output_type": "display_data"
    }
   ],
   "source": [
    "(slope, intercept, rvalue, pvalue, stderr) = linregress(northern_x_val, northern_city_data[\"Humidity\"])\n",
    "regress_values = northern_x_val * slope + intercept\n",
    "line_eq = \"y = \" + str(round(slope,2)) + \"x + \" + str(round(intercept,2))\n",
    "\n",
    "\n",
    "plt.scatter(northern_x_val, northern_city_data[\"Humidity\"])\n",
    "plt.plot(northern_x_val, regress_values, \"r-\")\n",
    "plt.annotate(line_eq,(-40,25),fontsize=15,color=\"red\")\n",
    "plt.title(\"City Latitude vs. Humidity\")\n",
    "plt.xlabel(\"Latitude\")\n",
    "plt.ylabel(\"Humidity (%)\")\n",
    "plt.grid()\n",
    "plt.savefig(\"output_data/northern_lat_v_humidity.png\")\n",
    "print(f\"The r-value is: {rvalue}\")\n",
    "\n",
    "plt.show()"
   ]
  },
  {
   "cell_type": "code",
   "execution_count": 26,
   "id": "72a85656",
   "metadata": {
    "scrolled": true
   },
   "outputs": [
    {
     "name": "stdout",
     "output_type": "stream",
     "text": [
      "The r-value is: 0.080599828413852\n"
     ]
    },
    {
     "data": {
      "image/png": "[encoded data removed]",
      "text/plain": [
       "<Figure size 432x288 with 1 Axes>"
      ]
     },
     "metadata": {
      "needs_background": "light"
     },
     "output_type": "display_data"
    }
   ],
   "source": [
    "(slope, intercept, rvalue, pvalue, stderr) = linregress(southern_x_val, southern_city_data[\"Humidity\"])\n",
    "regress_values = southern_x_val * slope + intercept\n",
    "line_eq = \"y = \" + str(round(slope,2)) + \"x + \" + str(round(intercept,2))\n",
    "\n",
    "\n",
    "plt.scatter(southern_x_val, southern_city_data[\"Humidity\"])\n",
    "plt.plot(southern_x_val, regress_values, \"r-\")\n",
    "plt.annotate(line_eq,(-40,25),fontsize=15,color=\"red\")\n",
    "plt.title(\"City Latitude vs. Humidity\")\n",
    "plt.xlabel(\"Latitude\")\n",
    "plt.ylabel(\"Humidity (%)\")\n",
    "plt.grid()\n",
    "plt.savefig(\"output_data/southern_lat_v_humidity.png\")\n",
    "print(f\"The r-value is: {rvalue}\")\n",
    "\n",
    "plt.show()"
   ]
  },
  {
   "cell_type": "code",
   "execution_count": 28,
   "id": "fff72cea",
   "metadata": {},
   "outputs": [
    {
     "name": "stdout",
     "output_type": "stream",
     "text": [
      "There appears to be very slight correlations between city latitude and humidity in the northern hemisphere, showing that there is an increase in humidity as distance from the equator increases.  However, the correlation of those two variables in the southern hemisphere is negligible\n"
     ]
    }
   ],
   "source": [
    "print(\"There appears to be very slight correlations between city latitude and humidity in the northern hemisphere, showing that there is an increase in humidity as distance from the equator increases.  However, the correlation of those two variables in the southern hemisphere is negligible\")"
   ]
  },
  {
   "cell_type": "code",
   "execution_count": 29,
   "id": "d99351a8",
   "metadata": {},
   "outputs": [
    {
     "name": "stdout",
     "output_type": "stream",
     "text": [
      "The r-value is: 0.16828773851639564\n"
     ]
    },
    {
     "data": {
      "image/png": "[encoded data removed]",
      "text/plain": [
       "<Figure size 432x288 with 1 Axes>"
      ]
     },
     "metadata": {
      "needs_background": "light"
     },
     "output_type": "display_data"
    }
   ],
   "source": [
    "(slope, intercept, rvalue, pvalue, stderr) = linregress(northern_x_val, northern_city_data[\"Cloudiness\"])\n",
    "regress_values = northern_x_val * slope + intercept\n",
    "line_eq = \"y = \" + str(round(slope,2)) + \"x + \" + str(round(intercept,2))\n",
    "\n",
    "plt.scatter(northern_x_val, northern_city_data[\"Cloudiness\"])\n",
    "plt.plot(northern_x_val, regress_values, \"r-\")\n",
    "plt.annotate(line_eq,(-40, 50),fontsize=15,color=\"red\")\n",
    "plt.title(\"City Latitude vs. Cloudiness\")\n",
    "plt.xlabel(\"Latitude\")\n",
    "plt.ylabel(\"Cloudiness (%)\")\n",
    "plt.grid()\n",
    "plt.savefig(\"output_data/northern_lat_v_cloudiness.png\")\n",
    "print(f\"The r-value is: {rvalue}\")\n",
    "\n",
    "plt.show()"
   ]
  },
  {
   "cell_type": "code",
   "execution_count": 30,
   "id": "2106df1d",
   "metadata": {
    "scrolled": false
   },
   "outputs": [
    {
     "name": "stdout",
     "output_type": "stream",
     "text": [
      "The r-value is: 0.014021527466053878\n"
     ]
    },
    {
     "data": {
      "image/png": "[encoded data removed]",
      "text/plain": [
       "<Figure size 432x288 with 1 Axes>"
      ]
     },
     "metadata": {
      "needs_background": "light"
     },
     "output_type": "display_data"
    }
   ],
   "source": [
    "(slope, intercept, rvalue, pvalue, stderr) = linregress(southern_x_val, southern_city_data[\"Cloudiness\"])\n",
    "regress_values = southern_x_val * slope + intercept\n",
    "line_eq = \"y = \" + str(round(slope,2)) + \"x + \" + str(round(intercept,2))\n",
    "\n",
    "plt.scatter(southern_x_val, southern_city_data[\"Cloudiness\"])\n",
    "plt.plot(southern_x_val, regress_values, \"r-\")\n",
    "plt.annotate(line_eq,(-40, 50),fontsize=15,color=\"red\")\n",
    "plt.title(\"City Latitude vs. Cloudiness\")\n",
    "plt.xlabel(\"Latitude\")\n",
    "plt.ylabel(\"Cloudiness (%)\")\n",
    "plt.grid()\n",
    "plt.savefig(\"output_data/southern_lat_v_cloudiness.png\")\n",
    "print(f\"The r-value is: {rvalue}\")\n",
    "\n",
    "plt.show()"
   ]
  },
  {
   "cell_type": "code",
   "execution_count": 31,
   "id": "981aad09",
   "metadata": {},
   "outputs": [
    {
     "name": "stdout",
     "output_type": "stream",
     "text": [
      "Linear regression shows relationships between cloudiness and distance from the equator, although the scatter plot shows no clear relationship between the two variables\n"
     ]
    }
   ],
   "source": [
    "print(\"Linear regression shows relationships between cloudiness and distance from the equator, although the scatter plot shows no clear relationship between the two variables\")"
   ]
  },
  {
   "cell_type": "code",
   "execution_count": 32,
   "id": "c7423840",
   "metadata": {
    "scrolled": true
   },
   "outputs": [
    {
     "name": "stdout",
     "output_type": "stream",
     "text": [
      "The r-value is: 0.14131870212919143\n"
     ]
    },
    {
     "data": {
      "image/png": "[encoded data removed]",
      "text/plain": [
       "<Figure size 432x288 with 1 Axes>"
      ]
     },
     "metadata": {
      "needs_background": "light"
     },
     "output_type": "display_data"
    }
   ],
   "source": [
    "(slope, intercept, rvalue, pvalue, stderr) = linregress(northern_x_val, northern_city_data[\"Wind Speed\"])\n",
    "regress_values = northern_x_val * slope + intercept\n",
    "line_eq = \"y = \" + str(round(slope,2)) + \"x + \" + str(round(intercept,2))\n",
    "\n",
    "plt.scatter(northern_x_val, northern_city_data[\"Wind Speed\"])\n",
    "plt.plot(northern_x_val, regress_values, \"r-\")\n",
    "plt.annotate(line_eq,(-40,40),fontsize=15,color=\"red\")\n",
    "plt.title(\"City Latitude vs. Wind Speed\")\n",
    "plt.xlabel(\"Latitude\")\n",
    "plt.ylabel(\"Wind Speed (mph)\")\n",
    "plt.grid()\n",
    "plt.savefig(\"output_data/northern_lat_v_wind_speed.png\")\n",
    "print(f\"The r-value is: {rvalue}\")\n",
    "\n",
    "plt.show()"
   ]
  },
  {
   "cell_type": "code",
   "execution_count": 33,
   "id": "203bece1",
   "metadata": {
    "scrolled": true
   },
   "outputs": [
    {
     "name": "stdout",
     "output_type": "stream",
     "text": [
      "The r-value is: -0.3137462204398666\n"
     ]
    },
    {
     "data": {
      "image/png": "[encoded data removed]",
      "text/plain": [
       "<Figure size 432x288 with 1 Axes>"
      ]
     },
     "metadata": {
      "needs_background": "light"
     },
     "output_type": "display_data"
    }
   ],
   "source": [
    "(slope, intercept, rvalue, pvalue, stderr) = linregress(southern_x_val, southern_city_data[\"Wind Speed\"])\n",
    "regress_values = southern_x_val * slope + intercept\n",
    "line_eq = \"y = \" + str(round(slope,2)) + \"x + \" + str(round(intercept,2))\n",
    "\n",
    "plt.scatter(southern_x_val, southern_city_data[\"Wind Speed\"])\n",
    "plt.plot(southern_x_val, regress_values, \"r-\")\n",
    "plt.annotate(line_eq,(-40,40),fontsize=15,color=\"red\")\n",
    "plt.title(\"City Latitude vs. Wind Speed\")\n",
    "plt.xlabel(\"Latitude\")\n",
    "plt.ylabel(\"Wind Speed (mph)\")\n",
    "plt.grid()\n",
    "plt.savefig(\"output_data/southern_lat_v_wind_speed.png\")\n",
    "print(f\"The r-value is: {rvalue}\")\n",
    "\n",
    "plt.show()"
   ]
  },
  {
   "cell_type": "code",
   "execution_count": 34,
   "id": "2e189dbe",
   "metadata": {},
   "outputs": [
    {
     "name": "stdout",
     "output_type": "stream",
     "text": [
      "Separate analysis of the northern and southern hemispheres shows wind speed increasing the further from the eqator a location is.\n"
     ]
    }
   ],
   "source": [
    "print(\"Separate analysis of the northern and southern hemispheres shows wind speed increasing the further from the eqator a location is.\")"
   ]
  }
 ],
 "metadata": {
  "kernelspec": {
   "display_name": "PythonData",
   "language": "python",
   "name": "pythondata"
  },
  "language_info": {
   "codemirror_mode": {
    "name": "ipython",
    "version": 3
   },
   "file_extension": ".py",
   "mimetype": "text/x-python",
   "name": "python",
   "nbconvert_exporter": "python",
   "pygments_lexer": "ipython3",
   "version": "3.7.7"
  }
 },
 "nbformat": 4,
 "nbformat_minor": 5
}
